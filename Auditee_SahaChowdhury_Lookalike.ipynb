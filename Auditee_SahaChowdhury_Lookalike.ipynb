{
  "nbformat": 4,
  "nbformat_minor": 0,
  "metadata": {
    "colab": {
      "provenance": [],
      "authorship_tag": "ABX9TyNyk1CWIxbFEvYSejtHZFCz",
      "include_colab_link": true
    },
    "kernelspec": {
      "name": "python3",
      "display_name": "Python 3"
    },
    "language_info": {
      "name": "python"
    }
  },
  "cells": [
    {
      "cell_type": "markdown",
      "metadata": {
        "id": "view-in-github",
        "colab_type": "text"
      },
      "source": [
        "<a href=\"https://colab.research.google.com/github/auditee/Auditee_SahaChowdhury_Zeotap-Assesment/blob/main/Auditee_SahaChowdhury_Lookalike.ipynb\" target=\"_parent\"><img src=\"https://colab.research.google.com/assets/colab-badge.svg\" alt=\"Open In Colab\"/></a>"
      ]
    },
    {
      "cell_type": "code",
      "execution_count": 3,
      "metadata": {
        "colab": {
          "base_uri": "https://localhost:8080/"
        },
        "id": "NEO086i0GviT",
        "outputId": "5488af4e-79c2-4de2-b85d-2f15e8dc0e45"
      },
      "outputs": [
        {
          "output_type": "stream",
          "name": "stdout",
          "text": [
            "Requirement already satisfied: scikit-learn in /usr/local/lib/python3.11/dist-packages (1.6.1)\n",
            "Requirement already satisfied: numpy>=1.19.5 in /usr/local/lib/python3.11/dist-packages (from scikit-learn) (1.26.4)\n",
            "Requirement already satisfied: scipy>=1.6.0 in /usr/local/lib/python3.11/dist-packages (from scikit-learn) (1.13.1)\n",
            "Requirement already satisfied: joblib>=1.2.0 in /usr/local/lib/python3.11/dist-packages (from scikit-learn) (1.4.2)\n",
            "Requirement already satisfied: threadpoolctl>=3.1.0 in /usr/local/lib/python3.11/dist-packages (from scikit-learn) (3.5.0)\n"
          ]
        }
      ],
      "source": [
        "!pip install scikit-learn"
      ]
    },
    {
      "cell_type": "code",
      "source": [
        "import pandas as pd\n",
        "import numpy as np\n",
        "from sklearn.preprocessing import StandardScaler\n",
        "from sklearn.metrics.pairwise import cosine_similarity\n",
        "\n",
        "customers = pd.read_csv(\"/content/Customers.csv\")\n",
        "products = pd.read_csv(\"/content/Products.csv\")\n",
        "transactions = pd.read_csv(\"/content/Transactions.csv\")\n",
        "\n",
        "merged_data = pd.merge(transactions, customers, on=\"CustomerID\").merge(products, on=\"ProductID\")\n",
        "\n",
        "customer_features = merged_data.groupby(\"CustomerID\").agg({\n",
        "    \"TotalValue\": \"sum\",\n",
        "    \"Quantity\": \"sum\",\n",
        "    \"ProductID\": \"nunique\",\n",
        "    \"Category\": lambda x: x.mode()[0]\n",
        "}).reset_index()\n",
        "\n",
        "customer_profiles = pd.merge(customers, customer_features, on=\"CustomerID\", how=\"left\")\n",
        "\n",
        "customer_profiles = pd.get_dummies(customer_profiles, columns=[\"Region\", \"Category\"], drop_first=True)\n",
        "\n",
        "customer_profiles = customer_profiles.fillna(0)\n",
        "\n",
        "numeric_columns = customer_profiles.select_dtypes(include=np.number).columns\n",
        "customer_features_scaled = customer_profiles[numeric_columns]\n",
        "\n",
        "scaler = StandardScaler()\n",
        "customer_features_scaled = scaler.fit_transform(customer_features_scaled)\n",
        "similarity_matrix = cosine_similarity(customer_features_scaled)\n",
        "\n",
        "similarity_df = pd.DataFrame(similarity_matrix, index=customer_profiles[\"CustomerID\"], columns=customer_profiles[\"CustomerID\"])\n",
        "lookalike_results = {}\n",
        "for customer_id in customer_profiles[\"CustomerID\"][:20]:\n",
        "\n",
        "    similar_customers = similarity_df[customer_id].sort_values(ascending=False).drop(customer_id)\n",
        "\n",
        "    top_3 = list(similar_customers.head(3).items())\n",
        "    lookalike_results[customer_id] = top_3\n",
        "\n",
        "lookalike_df = pd.DataFrame({\n",
        "    \"CustomerID\": lookalike_results.keys(),\n",
        "    \"Lookalikes\": lookalike_results.values()\n",
        "})\n",
        "\n",
        "lookalike_df.to_csv(\"Lookalike.csv\", index=False)\n",
        "print(\"Lookalike Model complete. Results saved to Lookalike.csv.\")"
      ],
      "metadata": {
        "colab": {
          "base_uri": "https://localhost:8080/"
        },
        "id": "LNQVEJ9fHh28",
        "outputId": "2cb323d6-6588-44b1-8f2c-2131822d525d"
      },
      "execution_count": 6,
      "outputs": [
        {
          "output_type": "stream",
          "name": "stdout",
          "text": [
            "Lookalike Model complete. Results saved to Lookalike.csv.\n"
          ]
        }
      ]
    }
  ]
}